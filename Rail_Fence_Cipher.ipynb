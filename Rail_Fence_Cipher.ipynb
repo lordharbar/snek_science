{
  "nbformat": 4,
  "nbformat_minor": 0,
  "metadata": {
    "colab": {
      "name": "Rail Fence Cipher",
      "version": "0.3.2",
      "provenance": [],
      "include_colab_link": true
    },
    "kernelspec": {
      "name": "python3",
      "display_name": "Python 3"
    }
  },
  "cells": [
    {
      "cell_type": "markdown",
      "metadata": {
        "id": "view-in-github",
        "colab_type": "text"
      },
      "source": [
        "<a href=\"https://colab.research.google.com/github/lordharbar/snek_science/blob/master/Rail_Fence_Cipher.ipynb\" target=\"_parent\"><img src=\"https://colab.research.google.com/assets/colab-badge.svg\" alt=\"Open In Colab\"/></a>"
      ]
    },
    {
      "metadata": {
        "id": "M7c_dQW2dbVV",
        "colab_type": "code",
        "colab": {}
      },
      "cell_type": "code",
      "source": [
        "def decryptRailFence(cipher, key): \n",
        "  \n",
        "    # create the matrix to cipher  \n",
        "    # plain text key = rows ,  \n",
        "    # length(text) = columns \n",
        "    # filling the rail matrix to  \n",
        "    # distinguish filled spaces \n",
        "    # from blank ones \n",
        "    rail = [['\\n' for i in range(len(cipher))]  \n",
        "                  for j in range(key)] \n",
        "      \n",
        "    # to find the direction \n",
        "    dir_down = None\n",
        "    row, col = 0, 0\n",
        "      \n",
        "    # mark the places with '*' \n",
        "    for i in range(len(cipher)): \n",
        "        if row == 0: \n",
        "            dir_down = True\n",
        "        if row == key - 1: \n",
        "            dir_down = False\n",
        "          \n",
        "        # place the marker \n",
        "        rail[row][col] = '*'\n",
        "        col += 1\n",
        "          \n",
        "        # find the next row  \n",
        "        # using direction flag \n",
        "        if dir_down: \n",
        "            row += 1\n",
        "        else: \n",
        "            row -= 1\n",
        "              \n",
        "    # now we can construct the  \n",
        "    # fill the rail matrix \n",
        "    index = 0\n",
        "    for i in range(key): \n",
        "        for j in range(len(cipher)): \n",
        "            if ((rail[i][j] == '*') and\n",
        "               (index < len(cipher))): \n",
        "                rail[i][j] = cipher[index] \n",
        "                index += 1\n",
        "          \n",
        "    # now read the matrix in  \n",
        "    # zig-zag manner to construct \n",
        "    # the resultant text \n",
        "    result = [] \n",
        "    row, col = 0, 0\n",
        "    for i in range(len(cipher)): \n",
        "          \n",
        "        # check the direction of flow \n",
        "        if row == 0: \n",
        "            dir_down = True\n",
        "        if row == key-1: \n",
        "            dir_down = False\n",
        "              \n",
        "        # place the marker \n",
        "        if (rail[row][col] != '*'): \n",
        "            result.append(rail[row][col]) \n",
        "            col += 1\n",
        "              \n",
        "        # find the next row using \n",
        "        # direction flag \n",
        "        if dir_down: \n",
        "            row += 1\n",
        "        else: \n",
        "            row -= 1\n",
        "    return(\"\".join(result))"
      ],
      "execution_count": 0,
      "outputs": []
    },
    {
      "metadata": {
        "id": "nGyVgQFvecP5",
        "colab_type": "code",
        "colab": {
          "base_uri": "https://localhost:8080/",
          "height": 34
        },
        "outputId": "79e83e1e-4633-447c-bd0b-87a3f92e5380"
      },
      "cell_type": "code",
      "source": [
        "decryptRailFence(\"IFDY'EONAAVUW\",3)"
      ],
      "execution_count": 75,
      "outputs": [
        {
          "output_type": "execute_result",
          "data": {
            "text/plain": [
              "\"I'VEFOUNDAWAY\""
            ]
          },
          "metadata": {
            "tags": []
          },
          "execution_count": 75
        }
      ]
    },
    {
      "metadata": {
        "id": "EIdvXh8bepuH",
        "colab_type": "code",
        "colab": {}
      },
      "cell_type": "code",
      "source": [
        "word = \"IFDY'EONAAVUW\""
      ],
      "execution_count": 0,
      "outputs": []
    },
    {
      "metadata": {
        "id": "jZzjRGjgew-e",
        "colab_type": "code",
        "colab": {
          "base_uri": "https://localhost:8080/",
          "height": 34
        },
        "outputId": "212e27fe-f479-4c01-e4ca-1f8f2068c9d7"
      },
      "cell_type": "code",
      "source": [
        "decryptRailFence(word,3)"
      ],
      "execution_count": 77,
      "outputs": [
        {
          "output_type": "execute_result",
          "data": {
            "text/plain": [
              "\"I'VEFOUNDAWAY\""
            ]
          },
          "metadata": {
            "tags": []
          },
          "execution_count": 77
        }
      ]
    },
    {
      "metadata": {
        "id": "XHLJQor_ezp8",
        "colab_type": "code",
        "colab": {
          "base_uri": "https://localhost:8080/",
          "height": 34
        },
        "outputId": "d97c6a0f-07de-4549-b665-44d4d7521b05"
      },
      "cell_type": "code",
      "source": [
        "decryptRailFence(word,3)"
      ],
      "execution_count": 78,
      "outputs": [
        {
          "output_type": "execute_result",
          "data": {
            "text/plain": [
              "\"I'VEFOUNDAWAY\""
            ]
          },
          "metadata": {
            "tags": []
          },
          "execution_count": 78
        }
      ]
    },
    {
      "metadata": {
        "id": "DC9QtZ6YfH_p",
        "colab_type": "code",
        "colab": {}
      },
      "cell_type": "code",
      "source": [
        ""
      ],
      "execution_count": 0,
      "outputs": []
    }
  ]
}