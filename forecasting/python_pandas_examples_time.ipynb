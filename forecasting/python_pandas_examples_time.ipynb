{
  "cells": [
    {
      "cell_type": "code",
      "source": [
        "# random python and pandas examples\n",
        "# join data frame\n",
        "new_df = df.join(df_1,how='inner')"
      ],
      "outputs": [],
      "execution_count": null,
      "metadata": {
        "collapsed": false,
        "outputHidden": false,
        "inputHidden": false
      }
    },
    {
      "cell_type": "code",
      "source": [
        "import pandas as pd\n",
        "import matplotlib.pyplot as plt\n",
        "\n",
        "# Convert the date index to datetime\n",
        "diet.index = pd.to_datetime(diet.index)\n",
        "\n",
        "# Plot 2012 data using slicing\n",
        "diet['2012'].plot()\n",
        "plt.show()\n",
        "\n",
        "# Plot the entire time series diet and show gridlines\n",
        "diet.plot(grid=True)\n",
        "plt.show()"
      ],
      "outputs": [],
      "execution_count": null,
      "metadata": {
        "collapsed": false,
        "outputHidden": false,
        "inputHidden": false
      }
    },
    {
      "cell_type": "code",
      "source": [
        "# Compute percent change using pct_change()\n",
        "returns = stocks_and_bonds.pct_change()\n",
        "\n",
        "# Compute correlation using corr()\n",
        "correlation = returns['SP500'].corr(returns['US10Y'])\n",
        "print(\"Correlation of stocks and interest rates: \", correlation)\n",
        "\n",
        "# Make scatter plot\n",
        "plt.scatter(returns['SP500'],returns['US10Y'])\n",
        "plt.show()"
      ],
      "outputs": [],
      "execution_count": null,
      "metadata": {
        "collapsed": false,
        "outputHidden": false,
        "inputHidden": false
      }
    },
    {
      "cell_type": "markdown",
      "source": [
        "Two trending series may show a strong correlation even if they are completely unrelated. This is referred to as \"spurious correlation\". That's why when you look at the correlation of say, two stocks, you should look at the correlation of their returns and not their levels."
      ],
      "metadata": {}
    },
    {
      "cell_type": "code",
      "source": [
        "# Compute correlation of levels\n",
        "correlation1 = levels['DJI'].corr(levels['UFO'])\n",
        "print(\"Correlation of levels: \", correlation1)\n",
        "\n",
        "# Compute correlation of percent changes\n",
        "changes = levels.pct_change()\n",
        "correlation2 = changes['DJI'].corr(changes['UFO'])\n",
        "print(\"Correlation of changes: \", correlation2)"
      ],
      "outputs": [],
      "execution_count": null,
      "metadata": {
        "collapsed": false,
        "outputHidden": false,
        "inputHidden": false
      }
    },
    {
      "cell_type": "markdown",
      "source": [
        "coef of the x is the slope or beta and above that is the slope. R squared is bascially the correlation that we computer earlier squared. corr(x,y)sq = Rsq"
      ],
      "metadata": {}
    },
    {
      "cell_type": "code",
      "source": [
        "# Import the statsmodels module\n",
        "import statsmodels.api as sm\n",
        "\n",
        "# Compute correlation of x and y\n",
        "correlation = x.corr(y)\n",
        "print(\"The correlation between x and y is %4.2f\" %(correlation))\n",
        "\n",
        "# Convert the Series x to a DataFrame and name the column x\n",
        "x = pd.DataFrame(x, columns=['x'])\n",
        "\n",
        "# Add a constant to the DataFrame x\n",
        "x = sm.add_constant(x)\n",
        "\n",
        "# Fit the regression of y on x\n",
        "result = sm.OLS(y, x).fit()\n",
        "\n",
        "# Print out the results and look at the relationship between R-squared and the correlation above\n",
        "print(result.summary())"
      ],
      "outputs": [],
      "execution_count": null,
      "metadata": {
        "collapsed": false,
        "outputHidden": false,
        "inputHidden": false
      }
    },
    {
      "cell_type": "code",
      "source": [
        "# autocorrelation is a correlation against a lagged copy of itself.\n",
        "# traders use autocorrelation to make money\n",
        "# example with a downsample to a week\n",
        "# Convert the daily data to weekly data\n",
        "MSFT = MSFT.resample(rule='W', how='last')\n",
        "\n",
        "# Compute the percentage change of prices\n",
        "returns = MSFT.pct_change()\n",
        "\n",
        "# Compute and print the autocorrelation of returns\n",
        "autocorrelation = returns['Adj Close'].autocorr()\n",
        "print(\"The autocorrelation of weekly returns is %4.2f\" %(autocorrelation))"
      ],
      "outputs": [],
      "execution_count": null,
      "metadata": {
        "collapsed": false,
        "outputHidden": false,
        "inputHidden": false
      }
    }
  ],
  "metadata": {
    "kernel_info": {
      "name": "python3"
    },
    "language_info": {
      "name": "python",
      "version": "3.6.1",
      "mimetype": "text/x-python",
      "codemirror_mode": {
        "name": "ipython",
        "version": 3
      },
      "pygments_lexer": "ipython3",
      "nbconvert_exporter": "python",
      "file_extension": ".py"
    },
    "kernelspec": {
      "name": "python3",
      "language": "python",
      "display_name": "Python 3"
    },
    "nteract": {
      "version": "0.11.2"
    }
  },
  "nbformat": 4,
  "nbformat_minor": 4
}