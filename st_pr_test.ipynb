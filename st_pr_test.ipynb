{
  "nbformat": 4,
  "nbformat_minor": 0,
  "metadata": {
    "colab": {
      "name": "st_pr_test",
      "version": "0.3.2",
      "provenance": [],
      "collapsed_sections": []
    },
    "kernelspec": {
      "name": "python3",
      "display_name": "Python 3"
    }
  },
  "cells": [
    {
      "metadata": {
        "id": "eHoXqGmxqpx6",
        "colab_type": "code",
        "colab": {}
      },
      "cell_type": "code",
      "source": [
        "# import libs\n",
        "import pandas_datareader as pdr # this is the lib with the api/stock access\n",
        "import datetime\n",
        "import pandas as pd"
      ],
      "execution_count": 0,
      "outputs": []
    },
    {
      "metadata": {
        "id": "T7iQajpHq-Gv",
        "colab_type": "code",
        "colab": {}
      },
      "cell_type": "code",
      "source": [
        "# assign stock values to variable\n",
        "aapl = pdr.get_data_yahoo('AAPL', start=datetime.datetime(2019, 1, 1), end=datetime.datetime(2019, 2, 8))"
      ],
      "execution_count": 0,
      "outputs": []
    },
    {
      "metadata": {
        "id": "h3RYzPRHrpAO",
        "colab_type": "code",
        "colab": {
          "base_uri": "https://localhost:8080/",
          "height": 34
        },
        "outputId": "a2b8353f-38b4-4b24-a914-55462c754974"
      },
      "cell_type": "code",
      "source": [
        "# view high price for specific day\n",
        "aapl.High['2019-2-8']"
      ],
      "execution_count": 57,
      "outputs": [
        {
          "output_type": "execute_result",
          "data": {
            "text/plain": [
              "170.66000366210938"
            ]
          },
          "metadata": {
            "tags": []
          },
          "execution_count": 57
        }
      ]
    },
    {
      "metadata": {
        "id": "QSQ2zvhFuXcX",
        "colab_type": "code",
        "colab": {
          "base_uri": "https://localhost:8080/",
          "height": 917
        },
        "outputId": "cf7fdff6-d0cb-474c-bba5-1030606c48d0"
      },
      "cell_type": "code",
      "source": [
        "# view data \n",
        "aapl"
      ],
      "execution_count": 58,
      "outputs": [
        {
          "output_type": "execute_result",
          "data": {
            "text/html": [
              "<div>\n",
              "<style scoped>\n",
              "    .dataframe tbody tr th:only-of-type {\n",
              "        vertical-align: middle;\n",
              "    }\n",
              "\n",
              "    .dataframe tbody tr th {\n",
              "        vertical-align: top;\n",
              "    }\n",
              "\n",
              "    .dataframe thead th {\n",
              "        text-align: right;\n",
              "    }\n",
              "</style>\n",
              "<table border=\"1\" class=\"dataframe\">\n",
              "  <thead>\n",
              "    <tr style=\"text-align: right;\">\n",
              "      <th></th>\n",
              "      <th>High</th>\n",
              "      <th>Low</th>\n",
              "      <th>Open</th>\n",
              "      <th>Close</th>\n",
              "      <th>Volume</th>\n",
              "      <th>Adj Close</th>\n",
              "    </tr>\n",
              "    <tr>\n",
              "      <th>Date</th>\n",
              "      <th></th>\n",
              "      <th></th>\n",
              "      <th></th>\n",
              "      <th></th>\n",
              "      <th></th>\n",
              "      <th></th>\n",
              "    </tr>\n",
              "  </thead>\n",
              "  <tbody>\n",
              "    <tr>\n",
              "      <th>2019-01-02</th>\n",
              "      <td>158.850006</td>\n",
              "      <td>154.229996</td>\n",
              "      <td>154.889999</td>\n",
              "      <td>157.919998</td>\n",
              "      <td>37039700.0</td>\n",
              "      <td>157.245605</td>\n",
              "    </tr>\n",
              "    <tr>\n",
              "      <th>2019-01-03</th>\n",
              "      <td>145.720001</td>\n",
              "      <td>142.000000</td>\n",
              "      <td>143.979996</td>\n",
              "      <td>142.190002</td>\n",
              "      <td>91312200.0</td>\n",
              "      <td>141.582779</td>\n",
              "    </tr>\n",
              "    <tr>\n",
              "      <th>2019-01-04</th>\n",
              "      <td>148.550003</td>\n",
              "      <td>143.800003</td>\n",
              "      <td>144.529999</td>\n",
              "      <td>148.259995</td>\n",
              "      <td>58607100.0</td>\n",
              "      <td>147.626846</td>\n",
              "    </tr>\n",
              "    <tr>\n",
              "      <th>2019-01-07</th>\n",
              "      <td>148.830002</td>\n",
              "      <td>145.899994</td>\n",
              "      <td>148.699997</td>\n",
              "      <td>147.929993</td>\n",
              "      <td>54777800.0</td>\n",
              "      <td>147.298264</td>\n",
              "    </tr>\n",
              "    <tr>\n",
              "      <th>2019-01-08</th>\n",
              "      <td>151.820007</td>\n",
              "      <td>148.520004</td>\n",
              "      <td>149.559998</td>\n",
              "      <td>150.750000</td>\n",
              "      <td>41025300.0</td>\n",
              "      <td>150.106216</td>\n",
              "    </tr>\n",
              "    <tr>\n",
              "      <th>2019-01-09</th>\n",
              "      <td>154.529999</td>\n",
              "      <td>149.630005</td>\n",
              "      <td>151.289993</td>\n",
              "      <td>153.309998</td>\n",
              "      <td>45099100.0</td>\n",
              "      <td>152.655289</td>\n",
              "    </tr>\n",
              "    <tr>\n",
              "      <th>2019-01-10</th>\n",
              "      <td>153.970001</td>\n",
              "      <td>150.860001</td>\n",
              "      <td>152.500000</td>\n",
              "      <td>153.800003</td>\n",
              "      <td>35780700.0</td>\n",
              "      <td>153.143204</td>\n",
              "    </tr>\n",
              "    <tr>\n",
              "      <th>2019-01-11</th>\n",
              "      <td>153.699997</td>\n",
              "      <td>151.509995</td>\n",
              "      <td>152.880005</td>\n",
              "      <td>152.289993</td>\n",
              "      <td>27023200.0</td>\n",
              "      <td>151.639633</td>\n",
              "    </tr>\n",
              "    <tr>\n",
              "      <th>2019-01-14</th>\n",
              "      <td>151.270004</td>\n",
              "      <td>149.220001</td>\n",
              "      <td>150.850006</td>\n",
              "      <td>150.000000</td>\n",
              "      <td>32439200.0</td>\n",
              "      <td>149.359421</td>\n",
              "    </tr>\n",
              "    <tr>\n",
              "      <th>2019-01-15</th>\n",
              "      <td>153.389999</td>\n",
              "      <td>150.050003</td>\n",
              "      <td>150.270004</td>\n",
              "      <td>153.070007</td>\n",
              "      <td>28710900.0</td>\n",
              "      <td>152.416321</td>\n",
              "    </tr>\n",
              "    <tr>\n",
              "      <th>2019-01-16</th>\n",
              "      <td>155.880005</td>\n",
              "      <td>153.000000</td>\n",
              "      <td>153.080002</td>\n",
              "      <td>154.940002</td>\n",
              "      <td>30569700.0</td>\n",
              "      <td>154.278336</td>\n",
              "    </tr>\n",
              "    <tr>\n",
              "      <th>2019-01-17</th>\n",
              "      <td>157.660004</td>\n",
              "      <td>153.259995</td>\n",
              "      <td>154.199997</td>\n",
              "      <td>155.860001</td>\n",
              "      <td>29821200.0</td>\n",
              "      <td>155.194397</td>\n",
              "    </tr>\n",
              "    <tr>\n",
              "      <th>2019-01-18</th>\n",
              "      <td>157.880005</td>\n",
              "      <td>155.979996</td>\n",
              "      <td>157.500000</td>\n",
              "      <td>156.820007</td>\n",
              "      <td>33751000.0</td>\n",
              "      <td>156.150314</td>\n",
              "    </tr>\n",
              "    <tr>\n",
              "      <th>2019-01-22</th>\n",
              "      <td>156.729996</td>\n",
              "      <td>152.619995</td>\n",
              "      <td>156.410004</td>\n",
              "      <td>153.300003</td>\n",
              "      <td>30394000.0</td>\n",
              "      <td>152.645340</td>\n",
              "    </tr>\n",
              "    <tr>\n",
              "      <th>2019-01-23</th>\n",
              "      <td>155.139999</td>\n",
              "      <td>151.699997</td>\n",
              "      <td>154.149994</td>\n",
              "      <td>153.919998</td>\n",
              "      <td>23130600.0</td>\n",
              "      <td>153.262680</td>\n",
              "    </tr>\n",
              "    <tr>\n",
              "      <th>2019-01-24</th>\n",
              "      <td>154.479996</td>\n",
              "      <td>151.740005</td>\n",
              "      <td>154.110001</td>\n",
              "      <td>152.699997</td>\n",
              "      <td>25441500.0</td>\n",
              "      <td>152.047897</td>\n",
              "    </tr>\n",
              "    <tr>\n",
              "      <th>2019-01-25</th>\n",
              "      <td>158.130005</td>\n",
              "      <td>154.320007</td>\n",
              "      <td>155.479996</td>\n",
              "      <td>157.759995</td>\n",
              "      <td>33535500.0</td>\n",
              "      <td>157.086288</td>\n",
              "    </tr>\n",
              "    <tr>\n",
              "      <th>2019-01-28</th>\n",
              "      <td>156.330002</td>\n",
              "      <td>153.660004</td>\n",
              "      <td>155.789993</td>\n",
              "      <td>156.300003</td>\n",
              "      <td>26192100.0</td>\n",
              "      <td>155.632523</td>\n",
              "    </tr>\n",
              "    <tr>\n",
              "      <th>2019-01-29</th>\n",
              "      <td>158.130005</td>\n",
              "      <td>154.110001</td>\n",
              "      <td>156.250000</td>\n",
              "      <td>154.679993</td>\n",
              "      <td>41587200.0</td>\n",
              "      <td>154.019440</td>\n",
              "    </tr>\n",
              "    <tr>\n",
              "      <th>2019-01-30</th>\n",
              "      <td>166.149994</td>\n",
              "      <td>160.229996</td>\n",
              "      <td>163.250000</td>\n",
              "      <td>165.250000</td>\n",
              "      <td>61109800.0</td>\n",
              "      <td>164.544296</td>\n",
              "    </tr>\n",
              "    <tr>\n",
              "      <th>2019-01-31</th>\n",
              "      <td>169.000000</td>\n",
              "      <td>164.559998</td>\n",
              "      <td>166.110001</td>\n",
              "      <td>166.440002</td>\n",
              "      <td>40739600.0</td>\n",
              "      <td>165.729218</td>\n",
              "    </tr>\n",
              "    <tr>\n",
              "      <th>2019-02-01</th>\n",
              "      <td>168.979996</td>\n",
              "      <td>165.929993</td>\n",
              "      <td>166.960007</td>\n",
              "      <td>166.520004</td>\n",
              "      <td>32668100.0</td>\n",
              "      <td>165.808884</td>\n",
              "    </tr>\n",
              "    <tr>\n",
              "      <th>2019-02-04</th>\n",
              "      <td>171.660004</td>\n",
              "      <td>167.279999</td>\n",
              "      <td>167.410004</td>\n",
              "      <td>171.250000</td>\n",
              "      <td>31495500.0</td>\n",
              "      <td>170.518677</td>\n",
              "    </tr>\n",
              "    <tr>\n",
              "      <th>2019-02-05</th>\n",
              "      <td>175.080002</td>\n",
              "      <td>172.350006</td>\n",
              "      <td>172.860001</td>\n",
              "      <td>174.179993</td>\n",
              "      <td>36101600.0</td>\n",
              "      <td>173.436157</td>\n",
              "    </tr>\n",
              "    <tr>\n",
              "      <th>2019-02-06</th>\n",
              "      <td>175.570007</td>\n",
              "      <td>172.850006</td>\n",
              "      <td>174.649994</td>\n",
              "      <td>174.240005</td>\n",
              "      <td>28239600.0</td>\n",
              "      <td>173.495911</td>\n",
              "    </tr>\n",
              "    <tr>\n",
              "      <th>2019-02-07</th>\n",
              "      <td>173.940002</td>\n",
              "      <td>170.339996</td>\n",
              "      <td>172.399994</td>\n",
              "      <td>170.940002</td>\n",
              "      <td>31741700.0</td>\n",
              "      <td>170.210007</td>\n",
              "    </tr>\n",
              "    <tr>\n",
              "      <th>2019-02-08</th>\n",
              "      <td>170.660004</td>\n",
              "      <td>168.419998</td>\n",
              "      <td>168.990005</td>\n",
              "      <td>170.410004</td>\n",
              "      <td>23802100.0</td>\n",
              "      <td>170.410004</td>\n",
              "    </tr>\n",
              "  </tbody>\n",
              "</table>\n",
              "</div>"
            ],
            "text/plain": [
              "                  High         Low        Open       Close      Volume  \\\n",
              "Date                                                                     \n",
              "2019-01-02  158.850006  154.229996  154.889999  157.919998  37039700.0   \n",
              "2019-01-03  145.720001  142.000000  143.979996  142.190002  91312200.0   \n",
              "2019-01-04  148.550003  143.800003  144.529999  148.259995  58607100.0   \n",
              "2019-01-07  148.830002  145.899994  148.699997  147.929993  54777800.0   \n",
              "2019-01-08  151.820007  148.520004  149.559998  150.750000  41025300.0   \n",
              "2019-01-09  154.529999  149.630005  151.289993  153.309998  45099100.0   \n",
              "2019-01-10  153.970001  150.860001  152.500000  153.800003  35780700.0   \n",
              "2019-01-11  153.699997  151.509995  152.880005  152.289993  27023200.0   \n",
              "2019-01-14  151.270004  149.220001  150.850006  150.000000  32439200.0   \n",
              "2019-01-15  153.389999  150.050003  150.270004  153.070007  28710900.0   \n",
              "2019-01-16  155.880005  153.000000  153.080002  154.940002  30569700.0   \n",
              "2019-01-17  157.660004  153.259995  154.199997  155.860001  29821200.0   \n",
              "2019-01-18  157.880005  155.979996  157.500000  156.820007  33751000.0   \n",
              "2019-01-22  156.729996  152.619995  156.410004  153.300003  30394000.0   \n",
              "2019-01-23  155.139999  151.699997  154.149994  153.919998  23130600.0   \n",
              "2019-01-24  154.479996  151.740005  154.110001  152.699997  25441500.0   \n",
              "2019-01-25  158.130005  154.320007  155.479996  157.759995  33535500.0   \n",
              "2019-01-28  156.330002  153.660004  155.789993  156.300003  26192100.0   \n",
              "2019-01-29  158.130005  154.110001  156.250000  154.679993  41587200.0   \n",
              "2019-01-30  166.149994  160.229996  163.250000  165.250000  61109800.0   \n",
              "2019-01-31  169.000000  164.559998  166.110001  166.440002  40739600.0   \n",
              "2019-02-01  168.979996  165.929993  166.960007  166.520004  32668100.0   \n",
              "2019-02-04  171.660004  167.279999  167.410004  171.250000  31495500.0   \n",
              "2019-02-05  175.080002  172.350006  172.860001  174.179993  36101600.0   \n",
              "2019-02-06  175.570007  172.850006  174.649994  174.240005  28239600.0   \n",
              "2019-02-07  173.940002  170.339996  172.399994  170.940002  31741700.0   \n",
              "2019-02-08  170.660004  168.419998  168.990005  170.410004  23802100.0   \n",
              "\n",
              "             Adj Close  \n",
              "Date                    \n",
              "2019-01-02  157.245605  \n",
              "2019-01-03  141.582779  \n",
              "2019-01-04  147.626846  \n",
              "2019-01-07  147.298264  \n",
              "2019-01-08  150.106216  \n",
              "2019-01-09  152.655289  \n",
              "2019-01-10  153.143204  \n",
              "2019-01-11  151.639633  \n",
              "2019-01-14  149.359421  \n",
              "2019-01-15  152.416321  \n",
              "2019-01-16  154.278336  \n",
              "2019-01-17  155.194397  \n",
              "2019-01-18  156.150314  \n",
              "2019-01-22  152.645340  \n",
              "2019-01-23  153.262680  \n",
              "2019-01-24  152.047897  \n",
              "2019-01-25  157.086288  \n",
              "2019-01-28  155.632523  \n",
              "2019-01-29  154.019440  \n",
              "2019-01-30  164.544296  \n",
              "2019-01-31  165.729218  \n",
              "2019-02-01  165.808884  \n",
              "2019-02-04  170.518677  \n",
              "2019-02-05  173.436157  \n",
              "2019-02-06  173.495911  \n",
              "2019-02-07  170.210007  \n",
              "2019-02-08  170.410004  "
            ]
          },
          "metadata": {
            "tags": []
          },
          "execution_count": 58
        }
      ]
    },
    {
      "metadata": {
        "id": "wnMhIPOYsovq",
        "colab_type": "code",
        "colab": {}
      },
      "cell_type": "code",
      "source": [
        "goog = pdr.get_data_yahoo('GOOG',start=datetime.datetime(2018,2,8), end=datetime.datetime(2018,2,9))"
      ],
      "execution_count": 0,
      "outputs": []
    },
    {
      "metadata": {
        "id": "AMeL8mMnuKpA",
        "colab_type": "code",
        "colab": {
          "base_uri": "https://localhost:8080/",
          "height": 142
        },
        "outputId": "ea398fcd-4015-4d6d-9313-72bd3667698d"
      },
      "cell_type": "code",
      "source": [
        "goog"
      ],
      "execution_count": 60,
      "outputs": [
        {
          "output_type": "execute_result",
          "data": {
            "text/html": [
              "<div>\n",
              "<style scoped>\n",
              "    .dataframe tbody tr th:only-of-type {\n",
              "        vertical-align: middle;\n",
              "    }\n",
              "\n",
              "    .dataframe tbody tr th {\n",
              "        vertical-align: top;\n",
              "    }\n",
              "\n",
              "    .dataframe thead th {\n",
              "        text-align: right;\n",
              "    }\n",
              "</style>\n",
              "<table border=\"1\" class=\"dataframe\">\n",
              "  <thead>\n",
              "    <tr style=\"text-align: right;\">\n",
              "      <th></th>\n",
              "      <th>High</th>\n",
              "      <th>Low</th>\n",
              "      <th>Open</th>\n",
              "      <th>Close</th>\n",
              "      <th>Volume</th>\n",
              "      <th>Adj Close</th>\n",
              "    </tr>\n",
              "    <tr>\n",
              "      <th>Date</th>\n",
              "      <th></th>\n",
              "      <th></th>\n",
              "      <th></th>\n",
              "      <th></th>\n",
              "      <th></th>\n",
              "      <th></th>\n",
              "    </tr>\n",
              "  </thead>\n",
              "  <tbody>\n",
              "    <tr>\n",
              "      <th>2018-02-08</th>\n",
              "      <td>1058.619995</td>\n",
              "      <td>1000.659973</td>\n",
              "      <td>1055.410034</td>\n",
              "      <td>1001.520020</td>\n",
              "      <td>2859100</td>\n",
              "      <td>1001.520020</td>\n",
              "    </tr>\n",
              "    <tr>\n",
              "      <th>2018-02-09</th>\n",
              "      <td>1043.969971</td>\n",
              "      <td>992.559998</td>\n",
              "      <td>1017.250000</td>\n",
              "      <td>1037.780029</td>\n",
              "      <td>3505900</td>\n",
              "      <td>1037.780029</td>\n",
              "    </tr>\n",
              "  </tbody>\n",
              "</table>\n",
              "</div>"
            ],
            "text/plain": [
              "                   High          Low         Open        Close   Volume  \\\n",
              "Date                                                                      \n",
              "2018-02-08  1058.619995  1000.659973  1055.410034  1001.520020  2859100   \n",
              "2018-02-09  1043.969971   992.559998  1017.250000  1037.780029  3505900   \n",
              "\n",
              "              Adj Close  \n",
              "Date                     \n",
              "2018-02-08  1001.520020  \n",
              "2018-02-09  1037.780029  "
            ]
          },
          "metadata": {
            "tags": []
          },
          "execution_count": 60
        }
      ]
    },
    {
      "metadata": {
        "id": "oFN7Z0SfuT_v",
        "colab_type": "code",
        "colab": {}
      },
      "cell_type": "code",
      "source": [
        "df_aapl= pd.DataFrame(aapl)"
      ],
      "execution_count": 0,
      "outputs": []
    },
    {
      "metadata": {
        "id": "NIcGB2dvvluB",
        "colab_type": "code",
        "colab": {
          "base_uri": "https://localhost:8080/",
          "height": 34
        },
        "outputId": "986bdb92-ff90-4af2-a79f-8fdb51bc92f2"
      },
      "cell_type": "code",
      "source": [
        "df_aapl.columns"
      ],
      "execution_count": 62,
      "outputs": [
        {
          "output_type": "execute_result",
          "data": {
            "text/plain": [
              "Index(['High', 'Low', 'Open', 'Close', 'Volume', 'Adj Close'], dtype='object')"
            ]
          },
          "metadata": {
            "tags": []
          },
          "execution_count": 62
        }
      ]
    },
    {
      "metadata": {
        "id": "jaaErtu6vmoa",
        "colab_type": "code",
        "colab": {
          "base_uri": "https://localhost:8080/",
          "height": 238
        },
        "outputId": "ba772d63-d1b0-4282-ce97-38690a257630"
      },
      "cell_type": "code",
      "source": [
        "aapl_low = df_aapl['Low']\n",
        "aapl_low.head(5), aapl_low.tail(5)"
      ],
      "execution_count": 63,
      "outputs": [
        {
          "output_type": "execute_result",
          "data": {
            "text/plain": [
              "(Date\n",
              " 2019-01-02    154.229996\n",
              " 2019-01-03    142.000000\n",
              " 2019-01-04    143.800003\n",
              " 2019-01-07    145.899994\n",
              " 2019-01-08    148.520004\n",
              " Name: Low, dtype: float64, Date\n",
              " 2019-02-04    167.279999\n",
              " 2019-02-05    172.350006\n",
              " 2019-02-06    172.850006\n",
              " 2019-02-07    170.339996\n",
              " 2019-02-08    168.419998\n",
              " Name: Low, dtype: float64)"
            ]
          },
          "metadata": {
            "tags": []
          },
          "execution_count": 63
        }
      ]
    },
    {
      "metadata": {
        "id": "2LCz29Y7vwa3",
        "colab_type": "code",
        "colab": {
          "base_uri": "https://localhost:8080/",
          "height": 373
        },
        "outputId": "e6154bde-69ba-4b39-87d7-8118290f7008"
      },
      "cell_type": "code",
      "source": [
        "aapl_low.plot.line()"
      ],
      "execution_count": 64,
      "outputs": [
        {
          "output_type": "execute_result",
          "data": {
            "text/plain": [
              "<matplotlib.axes._subplots.AxesSubplot at 0x7f4527b5fba8>"
            ]
          },
          "metadata": {
            "tags": []
          },
          "execution_count": 64
        },
        {
          "output_type": "display_data",
          "data": {
            "image/png": "[encoded data removed]",
            "text/plain": [
              "<Figure size 576x396 with 1 Axes>"
            ]
          },
          "metadata": {
            "tags": []
          }
        }
      ]
    }
  ]
}